{
 "cells": [
  {
   "cell_type": "code",
   "execution_count": 9,
   "metadata": {},
   "outputs": [
    {
     "name": "stdin",
     "output_type": "stream",
     "text": [
      " 33 11\n"
     ]
    },
    {
     "name": "stdout",
     "output_type": "stream",
     "text": [
      "4\n"
     ]
    }
   ],
   "source": [
    "import io, sys\n",
    "#sys.stdout = io.TextIOWrapper(sys.stdout.buffer, encoding='utf8') \n",
    "\n",
    "a=input()\n",
    "\n",
    "start_temp=int(a.split(' ')[0])\n",
    "end_temp=int(a.split(' ')[1])\n",
    "\n",
    "diff_end_to_start_temp=end_temp-start_temp\n",
    "\n",
    "#1. 10으로 나눈 몫을 구한다.  7 34 이면 34-7=27 이고, 27은 10으로 나누면, 몫이 2가 되므로 우선, 10도 올림을 2번 눌러야 하고,\n",
    "#2. 10의 몫 누른 값을 뺀 값 7 ... 10으로 한번더 올리고 5로 빼고, 1로 2번 올리는 방법과  ... 4\n",
    "#                            ... 5로 올리고, 1로 2번 올리는 방법       ... 3\n",
    "#                            ... 5로 2번 올리고, 1로 3번 빼는 방법     ... 5\n",
    "#                            ... 10으로 올리고, 1로 3번 빼는 방법      ... 4\n",
    "# 나머지 <10 이다\n",
    "# 나머지 = 10a + 5b + 1c 가 된다.\n",
    "# a, b, c는 정수이다.\n",
    "# d = 10a + 5b + 1c 일때, a+b+c가 최소가 되는 값을 찾아야 한다.\n",
    "# 조건 하나 더, c < 10 (가장 큰 나눔 값 )\n",
    "# 10 > d = 10a + 5b + 1c\n",
    "# 주어진 값 27 = 10a + 5b + 1c\n",
    "# a+b+c 가 최소가 되는 값\n",
    "# a+b+c의 최대는? 1로만 올리는 27보다 크다. \n",
    "# 따라서, 최소값은 27보다는 작다\n",
    "# a,b,c를 각각 -27~+27범위로 loop를 돌려서 나온 값 중 주어진값(27)에 해당하는 것을 찾고, \n",
    "# 그 때의 a+b+c 중 가장 작은 값을 찾자.\n",
    "#\n",
    "# \"현재온도가 0 보다 크거나 같고, 목표 온도가 40 보다 작거나 같다는 조건이 있었음.\"\n",
    "#\n",
    "\n",
    "\n",
    "\n",
    "answerlist=[]\n",
    "if diff_end_to_start_temp == 0:\n",
    "    answerlist.append(0)\n",
    "else:    \n",
    "    for aa in range(-1*abs(diff_end_to_start_temp),abs(diff_end_to_start_temp)):\n",
    "        for bb in range(-1*abs(diff_end_to_start_temp),abs(diff_end_to_start_temp)):\n",
    "            for cc in range(-1*abs(diff_end_to_start_temp),abs(diff_end_to_start_temp)):\n",
    "                if diff_end_to_start_temp==(10*aa+5*bb+1*cc):\n",
    "                    answerlist.append(abs(aa)+abs(bb)+abs(cc))\n",
    "\n",
    "print(min(answerlist))\n",
    "#print(min(answerlist))\n",
    "#df=pd.DataFrame(answerlist)\n",
    "\n",
    "\n",
    "            \n",
    "    "
   ]
  },
  {
   "cell_type": "code",
   "execution_count": 6,
   "metadata": {},
   "outputs": [
    {
     "data": {
      "text/plain": [
       "-22"
      ]
     },
     "execution_count": 6,
     "metadata": {},
     "output_type": "execute_result"
    }
   ],
   "source": [
    "diff_end_to_start_temp"
   ]
  },
  {
   "cell_type": "code",
   "execution_count": null,
   "metadata": {},
   "outputs": [],
   "source": []
  }
 ],
 "metadata": {
  "kernelspec": {
   "display_name": "Python 3",
   "language": "python",
   "name": "python3"
  },
  "language_info": {
   "codemirror_mode": {
    "name": "ipython",
    "version": 3
   },
   "file_extension": ".py",
   "mimetype": "text/x-python",
   "name": "python",
   "nbconvert_exporter": "python",
   "pygments_lexer": "ipython3",
   "version": "3.7.6"
  }
 },
 "nbformat": 4,
 "nbformat_minor": 4
}
