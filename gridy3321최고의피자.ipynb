{
 "cells": [
  {
   "cell_type": "code",
   "execution_count": 7,
   "metadata": {},
   "outputs": [
    {
     "name": "stdin",
     "output_type": "stream",
     "text": [
      " 3\n",
      " 12 2\n",
      " 200\n",
      " 50\n",
      " 300\n",
      " 100\n"
     ]
    },
    {
     "name": "stdout",
     "output_type": "stream",
     "text": [
      "37\n"
     ]
    }
   ],
   "source": [
    "import io, sys\n",
    "#sys.stdout = io.TextIOWrapper(sys.stdout.buffer, encoding='utf8') \n",
    "\n",
    "a=input()\n",
    "b=input()\n",
    "dow=input()\n",
    "cal_dow_topping=[]\n",
    "for i in range(0,int(a)):\n",
    "    cal_dow_topping.append(int(input()))\n",
    "    i+=1\n",
    "\n",
    "cal_dow_topping=sorted(cal_dow_topping, key=None, reverse=True)\n",
    "\n",
    "cal_per_price=[]\n",
    "\n",
    "cal_per_price.append(int(dow)/int(b.split(' ')[0]))\n",
    "\n",
    "tmp_tot=int(dow)\n",
    "for i in range(0, int(a)):\n",
    "    tmp_tot=tmp_tot+int(cal_dow_topping[i])\n",
    "    tmp_price=int(b.split(' ')[0]) + (i+1)*int(b.split(' ')[1])\n",
    "    cal_per_price.append(int(tmp_tot/tmp_price))\n",
    "    \n",
    "print(max(cal_per_price))\n"
   ]
  },
  {
   "cell_type": "code",
   "execution_count": 8,
   "metadata": {},
   "outputs": [
    {
     "data": {
      "text/plain": [
       "[16.666666666666668, 35, 37, 36]"
      ]
     },
     "execution_count": 8,
     "metadata": {},
     "output_type": "execute_result"
    }
   ],
   "source": [
    "cal_per_price"
   ]
  },
  {
   "cell_type": "code",
   "execution_count": 9,
   "metadata": {},
   "outputs": [
    {
     "data": {
      "text/plain": [
       "[300, 100, 50]"
      ]
     },
     "execution_count": 9,
     "metadata": {},
     "output_type": "execute_result"
    }
   ],
   "source": [
    "cal_dow_topping"
   ]
  },
  {
   "cell_type": "code",
   "execution_count": 10,
   "metadata": {},
   "outputs": [
    {
     "data": {
      "text/plain": [
       "[16.666666666666668, 35, 37, 36]"
      ]
     },
     "execution_count": 10,
     "metadata": {},
     "output_type": "execute_result"
    }
   ],
   "source": [
    "cal_per_price"
   ]
  },
  {
   "cell_type": "code",
   "execution_count": null,
   "metadata": {},
   "outputs": [],
   "source": []
  }
 ],
 "metadata": {
  "kernelspec": {
   "display_name": "Python 3",
   "language": "python",
   "name": "python3"
  },
  "language_info": {
   "codemirror_mode": {
    "name": "ipython",
    "version": 3
   },
   "file_extension": ".py",
   "mimetype": "text/x-python",
   "name": "python",
   "nbconvert_exporter": "python",
   "pygments_lexer": "ipython3",
   "version": "3.7.6"
  }
 },
 "nbformat": 4,
 "nbformat_minor": 4
}
