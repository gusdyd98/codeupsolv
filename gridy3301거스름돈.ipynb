{
 "cells": [
  {
   "cell_type": "code",
   "execution_count": 1,
   "metadata": {},
   "outputs": [
    {
     "name": "stdin",
     "output_type": "stream",
     "text": [
      " 54520\n"
     ]
    },
    {
     "name": "stdout",
     "output_type": "stream",
     "text": [
      "8\n"
     ]
    }
   ],
   "source": [
    "import io, sys\n",
    "#sys.stdout = io.TextIOWrapper(sys.stdout.buffer, encoding='utf8') \n",
    "\n",
    "a=input()\n",
    "\n",
    "a=int(a)\n",
    "\n",
    "gusrmdon=a\n",
    "\n",
    "#거스름돈 a = 50000*aa + 10000*bb + 5000*cc + 1000*dd + 500*ee + 100*ff + 50*gg + 10*hh\n",
    "# aa+bb+cc+dd+ee+ff+gg+hh 중 mininum 값을 찾는다.\n",
    "\n",
    "\n",
    "tmp_gusrmdon=gusrmdon\n",
    "\n",
    "answerlist=[]\n",
    "if gusrmdon == 0:\n",
    "    answerlist.append(0)\n",
    "else:    \n",
    "    aa=int(gusrmdon/50000)                                \n",
    "    bb=int((gusrmdon-50000*aa)/10000)\n",
    "    cc=int((gusrmdon-50000*aa-10000*bb)/5000)\n",
    "    dd=int((gusrmdon-50000*aa-10000*bb-5000*cc)/1000)\n",
    "    ee=int((gusrmdon-50000*aa-10000*bb-5000*cc-1000*dd)/500)\n",
    "    ff=int((gusrmdon-50000*aa-10000*bb-5000*cc-1000*dd-500*ee)/100)\n",
    "    gg=int((gusrmdon-50000*aa-10000*bb-5000*cc-1000*dd-500*ee-100*ff)/50)\n",
    "    hh=int((gusrmdon-50000*aa-10000*bb-5000*cc-1000*dd-500*ee-100*ff-50*gg)/10)\n",
    "    \n",
    "answerlist.append(aa+bb+cc+dd+ee+ff+gg+hh)\n",
    "\n",
    "print(min(answerlist))"
   ]
  },
  {
   "cell_type": "code",
   "execution_count": 6,
   "metadata": {},
   "outputs": [
    {
     "data": {
      "text/plain": [
       "-22"
      ]
     },
     "execution_count": 6,
     "metadata": {},
     "output_type": "execute_result"
    }
   ],
   "source": [
    "diff_end_to_start_temp"
   ]
  },
  {
   "cell_type": "code",
   "execution_count": null,
   "metadata": {},
   "outputs": [],
   "source": []
  }
 ],
 "metadata": {
  "kernelspec": {
   "display_name": "Python 3",
   "language": "python",
   "name": "python3"
  },
  "language_info": {
   "codemirror_mode": {
    "name": "ipython",
    "version": 3
   },
   "file_extension": ".py",
   "mimetype": "text/x-python",
   "name": "python",
   "nbconvert_exporter": "python",
   "pygments_lexer": "ipython3",
   "version": "3.7.6"
  }
 },
 "nbformat": 4,
 "nbformat_minor": 4
}
