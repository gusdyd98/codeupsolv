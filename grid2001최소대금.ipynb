{
 "cells": [
  {
   "cell_type": "code",
   "execution_count": 2,
   "metadata": {},
   "outputs": [],
   "source": [
    "#import io, sys\n",
    "#sys.stdout = io.TextIOWrapper(sys.stdout.buffer, encoding='utf8') "
   ]
  },
  {
   "cell_type": "code",
   "execution_count": 9,
   "metadata": {},
   "outputs": [
    {
     "name": "stdin",
     "output_type": "stream",
     "text": [
      " 800\n",
      " 700\n",
      " 900\n",
      " 198\n",
      " 330\n"
     ]
    },
    {
     "name": "stdout",
     "output_type": "stream",
     "text": [
      "987.8\n"
     ]
    }
   ],
   "source": [
    "pasta1=input()\n",
    "pasta2=input()\n",
    "pasta3=input()\n",
    "drink1=input()\n",
    "drink2=input()\n",
    "\n",
    "pasta=[int(pasta1), int(pasta2), int(pasta3)]\n",
    "drink=[int(drink1), int(drink2)]\n",
    "\n",
    "#print(pasta)\n",
    "#print(drink)\n",
    "\n",
    "min_set_price=(min(pasta)+min(drink))+0.1*(min(pasta)+min(drink))\n",
    "print(min_set_price)"
   ]
  }
 ],
 "metadata": {
  "kernelspec": {
   "display_name": "Python 3",
   "language": "python",
   "name": "python3"
  },
  "language_info": {
   "codemirror_mode": {
    "name": "ipython",
    "version": 3
   },
   "file_extension": ".py",
   "mimetype": "text/x-python",
   "name": "python",
   "nbconvert_exporter": "python",
   "pygments_lexer": "ipython3",
   "version": "3.7.6"
  }
 },
 "nbformat": 4,
 "nbformat_minor": 4
}
